{
  "nbformat": 4,
  "nbformat_minor": 0,
  "metadata": {
    "colab": {
      "name": "sorting.ipynb",
      "provenance": [],
      "collapsed_sections": [],
      "authorship_tag": "ABX9TyMpQD396ABgCHAXavGI86ew",
      "include_colab_link": true
    },
    "kernelspec": {
      "name": "python3",
      "display_name": "Python 3"
    },
    "language_info": {
      "name": "python"
    }
  },
  "cells": [
    {
      "cell_type": "markdown",
      "metadata": {
        "id": "view-in-github",
        "colab_type": "text"
      },
      "source": [
        "<a href=\"https://colab.research.google.com/github/VasaviLagishetty/Sorting-Algorithms/blob/main/sorting.ipynb\" target=\"_parent\"><img src=\"https://colab.research.google.com/assets/colab-badge.svg\" alt=\"Open In Colab\"/></a>"
      ]
    },
    {
      "cell_type": "code",
      "metadata": {
        "id": "VgjD3tZlFE68",
        "colab": {
          "base_uri": "https://localhost:8080/"
        },
        "outputId": "0605de4b-4aea-4f4e-e7bb-788fef66da7d"
      },
      "source": [
        "def binarySearchIterative(l, key):\n",
        "    low,high = 0,len(l)-1\n",
        "    while(low <= high):\n",
        "        mid = (low+high)//2\n",
        "        if l[mid] == key:\n",
        "            return True\n",
        "        elif l[mid] > key:\n",
        "            high = mid -1\n",
        "        else:\n",
        "            low = mid + 1\n",
        "    return False\n",
        "\n",
        "def binarySearchRecursive(l, key, low, high):\n",
        "    if low <= high:\n",
        "        mid = (low+high)//2\n",
        "        if l[mid] == key:\n",
        "            return True\n",
        "        elif l[mid] > key:\n",
        "            return binarySearchRecursive(l, key, low, mid-1)\n",
        "        else:\n",
        "            return binarySearchRecursive(l, key, mid+1, high)\n",
        "    else:\n",
        "        return False\n",
        "\n",
        "l = [2, 4, 7, 8, 11, 17]\n",
        "key = 11\n",
        "print(binarySearchIterative(l, key))\n",
        "print(binarySearchRecursive(l, key, 0, len(l)-1))"
      ],
      "execution_count": null,
      "outputs": [
        {
          "output_type": "stream",
          "text": [
            "True\n",
            "True\n"
          ],
          "name": "stdout"
        }
      ]
    },
    {
      "cell_type": "markdown",
      "metadata": {
        "id": "SMzXWF8NQjli"
      },
      "source": [
        "#Bubble Sort"
      ]
    },
    {
      "cell_type": "code",
      "metadata": {
        "colab": {
          "base_uri": "https://localhost:8080/"
        },
        "id": "KjMgT_JcWIfr",
        "outputId": "f82070a6-54f0-4fd7-f526-d1113e6111ba"
      },
      "source": [
        "def bubbleSort(arr):\n",
        "    size = len(arr)\n",
        "    for i in range(0,size):\n",
        "        for j in range(0,size-i-1):\n",
        "            if arr[j+1] < arr[j]:\n",
        "                arr[j+1],arr[j] = arr[j],arr[j+1]\n",
        "\n",
        "arr = [2, 7, 1, 9, 16, 3, 12, 35, 15]\n",
        "bubbleSort(arr)\n",
        "arr"
      ],
      "execution_count": null,
      "outputs": [
        {
          "output_type": "execute_result",
          "data": {
            "text/plain": [
              "[1, 2, 3, 7, 9, 12, 15, 16, 35]"
            ]
          },
          "metadata": {
            "tags": []
          },
          "execution_count": 2
        }
      ]
    },
    {
      "cell_type": "markdown",
      "metadata": {
        "id": "5hjWCP0aZQqx"
      },
      "source": [
        "#Selection Sort"
      ]
    },
    {
      "cell_type": "code",
      "metadata": {
        "colab": {
          "base_uri": "https://localhost:8080/"
        },
        "id": "zjj0UYsKZVHq",
        "outputId": "042298c3-3439-4cf1-d1ff-39bd90b24dc5"
      },
      "source": [
        "def selectionSort(arr):\n",
        "    size = len(arr)\n",
        "    for i in range(0,size):\n",
        "        idx = i\n",
        "        for j in range(i+1,size):\n",
        "            if arr[j] < arr[idx]:\n",
        "                idx = j\n",
        "        arr[i],arr[idx] = arr[idx],arr[i]\n",
        "\n",
        "arr = [2, 7, 1, 9, 16, 3, 12, 35, 15]\n",
        "selectionSort(arr)\n",
        "arr"
      ],
      "execution_count": null,
      "outputs": [
        {
          "output_type": "execute_result",
          "data": {
            "text/plain": [
              "[1, 2, 3, 7, 9, 12, 15, 16, 35]"
            ]
          },
          "metadata": {
            "tags": []
          },
          "execution_count": 3
        }
      ]
    },
    {
      "cell_type": "markdown",
      "metadata": {
        "id": "nyFo1l2-a1tI"
      },
      "source": [
        "#Insertion Sort"
      ]
    },
    {
      "cell_type": "code",
      "metadata": {
        "colab": {
          "base_uri": "https://localhost:8080/"
        },
        "id": "ft60u4OCa6Kg",
        "outputId": "df13ff7a-f3cd-40c5-ec5d-cb98b3e38f7d"
      },
      "source": [
        "def insertionSort(arr):\n",
        "    size = len(arr)\n",
        "    for i in range(0,size):\n",
        "        val = arr[i]\n",
        "        j = i-1\n",
        "        while(j >= 0 and arr[j] > val):\n",
        "            arr[j +1] = arr[j]\n",
        "            j -= 1\n",
        "        arr[j+1] = val\n",
        "\n",
        "arr = [2, 7, 1, 9, 16, 3, 12, 35, 15]\n",
        "insertionSort(arr)\n",
        "arr"
      ],
      "execution_count": null,
      "outputs": [
        {
          "output_type": "execute_result",
          "data": {
            "text/plain": [
              "[1, 2, 3, 7, 9, 12, 15, 16, 35]"
            ]
          },
          "metadata": {
            "tags": []
          },
          "execution_count": 4
        }
      ]
    },
    {
      "cell_type": "markdown",
      "metadata": {
        "id": "R86T4Rdmbr_-"
      },
      "source": [
        "#Merge Sort"
      ]
    },
    {
      "cell_type": "code",
      "metadata": {
        "colab": {
          "base_uri": "https://localhost:8080/"
        },
        "id": "OXNRziOTb_RH",
        "outputId": "3f60a5c1-0088-4a1d-9890-4929b1761477"
      },
      "source": [
        "def mergeSort(arr):\n",
        "    if len(arr) == 1: return\n",
        "    mid = len(arr)//2\n",
        "    L = arr[:mid]\n",
        "    R = arr[mid:]\n",
        "    mergeSort(L)\n",
        "    mergeSort(R)\n",
        "    merge(arr, L, R)\n",
        "\n",
        "def merge(arr, L, R):\n",
        "    i,j,k = 0,0,0\n",
        "    while(i < len(L) and j < len(R)):\n",
        "        if L[i] < R[j]:\n",
        "            arr[k] = L[i]\n",
        "            i += 1\n",
        "        else:\n",
        "            arr[k] = R[j]\n",
        "            j += 1\n",
        "        k += 1\n",
        "\n",
        "    while(i < len(L)):\n",
        "        arr[k] = L[i]\n",
        "        k += 1\n",
        "        i += 1\n",
        "    while(j < len(R)):\n",
        "        arr[k] = R[j]\n",
        "        k += 1\n",
        "        j += 1\n",
        "\n",
        "arr = [2, 7, 1, 9, 16, 3, 12, 35, 15]\n",
        "mergeSort(arr)\n",
        "arr"
      ],
      "execution_count": null,
      "outputs": [
        {
          "output_type": "execute_result",
          "data": {
            "text/plain": [
              "[1, 2, 3, 7, 9, 12, 15, 16, 35]"
            ]
          },
          "metadata": {
            "tags": []
          },
          "execution_count": 5
        }
      ]
    },
    {
      "cell_type": "markdown",
      "metadata": {
        "id": "NSX3c5wsjIjj"
      },
      "source": [
        "#Quick Sort (pivot as last element)"
      ]
    },
    {
      "cell_type": "code",
      "metadata": {
        "colab": {
          "base_uri": "https://localhost:8080/"
        },
        "id": "SBKTQ3W3jLag",
        "outputId": "9cf7719d-a533-4fef-adad-c1dcd289fbbc"
      },
      "source": [
        "def quickSort(arr, low, high):\n",
        "    if len(arr) == 1: return\n",
        "    if low < high:\n",
        "        p = partition(arr, low, high)\n",
        "        quickSort(arr, low, p-1)\n",
        "        quickSort(arr, p+1, high)\n",
        "\n",
        "def partition(arr, low, high):\n",
        "    i = low - 1\n",
        "    pivot = arr[high]\n",
        "    for j in range(low,high):\n",
        "        if arr[j] <= pivot:\n",
        "            i += 1\n",
        "            arr[j],arr[i] = arr[i],arr[j]\n",
        "    arr[high],arr[i+1] = arr[i+1],arr[high]\n",
        "    return i+1\n",
        "\n",
        "arr = [2, 7, 1, 9, 16, 3, 12, 35, 15]\n",
        "quickSort(arr, 0, len(arr)-1)\n",
        "arr"
      ],
      "execution_count": null,
      "outputs": [
        {
          "output_type": "execute_result",
          "data": {
            "text/plain": [
              "[1, 2, 3, 7, 9, 12, 15, 16, 35]"
            ]
          },
          "metadata": {
            "tags": []
          },
          "execution_count": 6
        }
      ]
    }
  ]
}